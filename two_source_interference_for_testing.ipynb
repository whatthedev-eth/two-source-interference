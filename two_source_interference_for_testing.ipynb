{
 "cells": [
  {
   "cell_type": "markdown",
   "id": "09d3ff4d",
   "metadata": {},
   "source": [
    "## Imports"
   ]
  },
  {
   "cell_type": "code",
   "execution_count": 8,
   "id": "9d268b8e",
   "metadata": {
    "scrolled": false
   },
   "outputs": [],
   "source": [
    "import numpy as np\n",
    "import matplotlib.pyplot as plt"
   ]
  },
  {
   "cell_type": "markdown",
   "id": "7aa20710",
   "metadata": {},
   "source": [
    "## Functions"
   ]
  },
  {
   "cell_type": "code",
   "execution_count": 9,
   "id": "56b4b259",
   "metadata": {},
   "outputs": [],
   "source": [
    "def intensity(wave_fn):\n",
    "    # total intensity ~ (total wave_fn)^2\n",
    "    intensity = wave_fn**2\n",
    "    return intensity\n",
    "\n",
    "def wave_sum(wave_1_fn, wave_2_fn):\n",
    "    wave_fn = wave_1_fn + wave_2_fn\n",
    "    return wave_fn\n",
    "\n",
    "def theta_shifter(theta):\n",
    "    # shifts theta so it is in range -pi <= theta <= +pi\n",
    "    theta_abs = abs(theta)    \n",
    "    if theta_abs >= np.pi:\n",
    "        cycles_to_shift = 1 + ((theta_abs - np.pi)/(2*np.pi)) // 1\n",
    "        theta_abs_shifted = theta_abs - (2*np.pi * cycles_to_shift)   \n",
    "        if theta >= 0:\n",
    "            theta_shifted = theta_abs_shifted\n",
    "        else:\n",
    "            theta_shifted = -theta_abs_shifted            \n",
    "    else:\n",
    "        theta_shifted = theta   \n",
    "    return theta_shifted\n",
    "\n",
    "def cosine_n_terms(theta,n):\n",
    "    # n = number of terms (not order)\n",
    "    # 2n = order\n",
    "    # cosine(theta) ~= ((-1)^n)*(theta^(2n))/(2n)!\n",
    "    #               ~= 1 - theta^2/2! + theta^4/4! - theta^6/6! + ...\n",
    "    cos_nth = 0\n",
    "    # must have -pi <= theta <= +pi for cosine approx., so shift theta as needed\n",
    "    theta_shifted = theta_shifter(theta)   \n",
    "    for i in range(n):\n",
    "        power_neg_one = (-1)**i\n",
    "        power_theta = theta_shifted**(2*i)\n",
    "        fact = np.math.factorial(2*i)   \n",
    "        cos_nth += power_neg_one * power_theta / fact\n",
    "    return cos_nth\n",
    "\n",
    "def wave_function(t, x, y, params, wave):\n",
    "    n = params['n']\n",
    "    k = params['k']\n",
    "    omega = params['omega']\n",
    "    decay_exp = params['decay_exp']\n",
    "    \n",
    "    x0 = wave['x0']\n",
    "    y0 = wave['y0']\n",
    "    phi = wave['phi']\n",
    "    \n",
    "    # distance from source\n",
    "    r = ((x - x0)**2 + (y - y0)**2)**0.5    \n",
    "    # wave function argument\n",
    "    theta = k * r - omega * t + phi                                \n",
    "    # wave function undecayed\n",
    "    wave_fn = cosine_n_terms(theta,n)    \n",
    "    # decayed wave function\n",
    "    #decayed_wave_fn = wave_fn * r**decay_exp    \n",
    "    #return decayed_wave_fn\n",
    "    return wave_fn"
   ]
  },
  {
   "cell_type": "markdown",
   "id": "2f595117",
   "metadata": {},
   "source": [
    "## Constants"
   ]
  },
  {
   "cell_type": "code",
   "execution_count": 10,
   "id": "91a3ca3b",
   "metadata": {},
   "outputs": [],
   "source": [
    "# wave speed\n",
    "v = 0.3\n",
    "\n",
    "# phase shifts of sources\n",
    "phi_1 = 0\n",
    "phi_2 = 0\n",
    "\n",
    "# decay exponent (power of r to show wave dissipation)\n",
    "# for spherical wave: (ideal decay ->) -1 <= decay_exp <= 0 (<- no decay)\n",
    "# but -1 is too strong for graphic display\n",
    "decay_exp = 0\n",
    "\n",
    "# number of terms in cosine approximation\n",
    "n = 5\n",
    "\n",
    "# time; consider only t=0 for now\n",
    "t = 0."
   ]
  },
  {
   "cell_type": "markdown",
   "id": "e46044dc",
   "metadata": {},
   "source": [
    "## Input parameters"
   ]
  },
  {
   "cell_type": "code",
   "execution_count": 11,
   "id": "8f85c750",
   "metadata": {},
   "outputs": [],
   "source": [
    "# number of points to plot along each axis \n",
    "# (total number of points on map = num_pts^2)\n",
    "num_pts = 25\n",
    "\n",
    "# frequency\n",
    "f = 0.509\n",
    "\n",
    "# source separation\n",
    "d = 3"
   ]
  },
  {
   "cell_type": "markdown",
   "id": "40c49ca6",
   "metadata": {},
   "source": [
    "## Wave parameters"
   ]
  },
  {
   "cell_type": "code",
   "execution_count": 12,
   "id": "d9e77dc3",
   "metadata": {},
   "outputs": [],
   "source": [
    "# angular frequency [rad/s]\n",
    "omega = 2 * np.pi * f\n",
    "\n",
    "# wave number [rad/m]\n",
    "k = omega / v"
   ]
  },
  {
   "cell_type": "markdown",
   "id": "0f090c62",
   "metadata": {},
   "source": [
    "## Plot parameters"
   ]
  },
  {
   "cell_type": "code",
   "execution_count": 13,
   "id": "b6648862",
   "metadata": {},
   "outputs": [],
   "source": [
    "# PLOT PARAMETERS\n",
    "\n",
    "x_min = 0.\n",
    "x_max = 10.\n",
    "y_min = -5.\n",
    "y_max = 5.\n",
    "\n",
    "# np.linspace(min, max, num) returns num evenly spaced numbers over interval min,max\n",
    "# creates row array\n",
    "x_s = np.linspace(x_min, x_max, num_pts)\n",
    "# creates column array if '.reshape(-1,1)'\n",
    "y_s = np.linspace(y_min, y_max, num_pts).reshape(-1, 1)\n",
    "\n",
    "# need to create empty arrays to use in nested loop below\n",
    "wave_1_fn_s = np.empty((num_pts, num_pts))\n",
    "wave_2_fn_s = np.empty((num_pts, num_pts))\n",
    "\n",
    "#TODO add color maps dict\n",
    "#COLOR_MAP_S ={}"
   ]
  },
  {
   "cell_type": "markdown",
   "id": "e0804d72",
   "metadata": {},
   "source": [
    "## Calculate intensities and create plots"
   ]
  },
  {
   "cell_type": "code",
   "execution_count": 14,
   "id": "b1ebe994",
   "metadata": {
    "scrolled": false
   },
   "outputs": [
    {
     "data": {
      "image/png": "[encoded data removed]",
      "text/plain": [
       "<Figure size 640x480 with 1 Axes>"
      ]
     },
     "metadata": {},
     "output_type": "display_data"
    }
   ],
   "source": [
    "# create a Figure 'fig' and Axes 'ax'\n",
    "fig, ax = plt.subplots()\n",
    "       \n",
    "# Source positions\n",
    "x0_1 = 0.\n",
    "y0_1 = d / 2.\n",
    "x0_2 = 0.\n",
    "y0_2 = -y0_1\n",
    "        \n",
    "# dicts for wave parameters\n",
    "common = {'omega':omega, 'k':k, 'decay_exp':decay_exp, 'n':n}\n",
    "wave_1 = {'x0':x0_1, 'y0':y0_1, 'phi':phi_1}\n",
    "wave_2 = {'x0':x0_2, 'y0':y0_2, 'phi':phi_2}\n",
    "    \n",
    "# wave function arrays filled w/loops because cannot use \">\" w arrays in functions\n",
    "for p in range(0,num_pts):\n",
    "    x = x_s[p]\n",
    "    for q in range (0,num_pts):\n",
    "        y = y_s[q]\n",
    "\n",
    "        wave_1_fn_s[q,p] = wave_function(t, x, y, common, wave_1)\n",
    "        wave_2_fn_s[q,p] = wave_function(t, x, y, common, wave_2)\n",
    "    \n",
    "        # Entire arrays filled by single calls\n",
    "        # total wave function array due to superposition\n",
    "        wave_fn_s = wave_sum(wave_1_fn_s, wave_2_fn_s)   \n",
    "        # total intensities array\n",
    "        intensity_s = intensity(wave_fn_s)\n",
    "        #print(intensity_s[q,p])\n",
    "               \n",
    "# removes subdivisions (ticks) on axes since [] is empty\n",
    "ax.set_xticks([])\n",
    "ax.set_yticks([])\n",
    "    \n",
    "ax.imshow(intensity_s, cmap=None)\n",
    "#TODO try different colormaps - default is viridis \n",
    "#https://matplotlib.org/stable/tutorials/colors/colormaps.html\n",
    "\n",
    "plt.show()"
   ]
  }
 ],
 "metadata": {
  "kernelspec": {
   "display_name": "Python 3 (ipykernel)",
   "language": "python",
   "name": "python3"
  },
  "language_info": {
   "codemirror_mode": {
    "name": "ipython",
    "version": 3
   },
   "file_extension": ".py",
   "mimetype": "text/x-python",
   "name": "python",
   "nbconvert_exporter": "python",
   "pygments_lexer": "ipython3",
   "version": "3.9.13"
  }
 },
 "nbformat": 4,
 "nbformat_minor": 5
}
