{
 "cells": [
  {
   "cell_type": "markdown",
   "id": "9afa1d68",
   "metadata": {},
   "source": [
    "## Imports"
   ]
  },
  {
   "cell_type": "code",
   "execution_count": 4,
   "id": "4cfb0384",
   "metadata": {
    "scrolled": false
   },
   "outputs": [],
   "source": [
    "import json\n",
    "import numpy as np\n",
    "import matplotlib.pyplot as plt"
   ]
  },
  {
   "cell_type": "markdown",
   "id": "26986f52",
   "metadata": {},
   "source": [
    "## Import intensity arrays from .json files\n",
    "\n",
    "Results for intensity calculations done in Cairo and in Python are each in two separate .json files"
   ]
  },
  {
   "cell_type": "code",
   "execution_count": 5,
   "id": "db9bfb8b",
   "metadata": {
    "scrolled": false
   },
   "outputs": [],
   "source": [
    "# Cairo-calculated intensity data\n",
    "with open('test_intensity_plot_cairo.json') as json_file_cairo:\n",
    "    data_cairo = json.load(json_file_cairo)\n",
    "    \n",
    "    # Unpack flattened array\n",
    "    intensity_array_cairo_flattened = np.array(data_cairo[0])\n",
    "    \n",
    "    # Find num_pts = (array length)**0.5\n",
    "    #              = number of points along each side of desired square array\n",
    "    intensity_array_cairo_flattened_len = len(intensity_array_cairo_flattened)\n",
    "    num_pts = int(np.sqrt(intensity_array_cairo_flattened_len))\n",
    "    \n",
    "    # Declare empty array with dimensions\n",
    "    intensity_s_cairo = np.empty((num_pts, num_pts))\n",
    "    \n",
    "    # Fill array  \n",
    "    for p in range(0, num_pts):\n",
    "        for q in range(0, num_pts):\n",
    "            \n",
    "            intensity_s_cairo[q, p] = intensity_array_cairo_flattened[q + p * num_pts]\n",
    "            \n",
    "\n",
    "# Python-calculated intensity data\n",
    "with open('test_intensity_plot_python.json') as json_file_python:\n",
    "    data_python = json.load(json_file_python)\n",
    "        \n",
    "    # Declare empty array with dimensions\n",
    "    intensity_s_python = np.empty((num_pts, num_pts))\n",
    "    \n",
    "    # Fill array \n",
    "    for p in range(0, num_pts):\n",
    "        for q in range(0, num_pts):\n",
    "            \n",
    "            intensity_s_python[q, p] = data_python[q][p]\n"
   ]
  },
  {
   "cell_type": "markdown",
   "id": "82e30484",
   "metadata": {},
   "source": [
    "## Create plots"
   ]
  },
  {
   "cell_type": "code",
   "execution_count": 6,
   "id": "6aa22a99",
   "metadata": {
    "scrolled": true
   },
   "outputs": [
    {
     "data": {
      "image/png": "[encoded data removed]",
      "text/plain": [
       "<Figure size 640x480 with 2 Axes>"
      ]
     },
     "metadata": {},
     "output_type": "display_data"
    }
   ],
   "source": [
    "# create a Figure 'fig' and Axes 'ax'. \n",
    "# subplots args included (nrows, ncols)\n",
    "fig, ax_s = plt.subplots(1,2)\n",
    "\n",
    "# reduce default font size for plots\n",
    "plt.rcParams.update({'font.size':8})\n",
    "            \n",
    "# create plot titles\n",
    "title_str_cairo = 'Cairo-calculated intensity array'\n",
    "title_str_python = 'Python-calculated intensity array'\n",
    "\n",
    "# axes title (reduce pad from default of 6)\n",
    "ax_s[0].set_title(title_str_cairo, pad=2)\n",
    "ax_s[1].set_title(title_str_python, pad=2)\n",
    "\n",
    "# removes subdivisions (ticks) on axes since [] is empty\n",
    "ax_s[0].set_xticks([])\n",
    "ax_s[1].set_xticks([])\n",
    "ax_s[0].set_yticks([])\n",
    "ax_s[1].set_yticks([])\n",
    "    \n",
    "ax_s[0].imshow(intensity_s_cairo, cmap=None)\n",
    "ax_s[1].imshow(intensity_s_python, cmap=None)\n",
    "\n",
    "plt.show()"
   ]
  }
 ],
 "metadata": {
  "kernelspec": {
   "display_name": "Python 3 (ipykernel)",
   "language": "python",
   "name": "python3"
  },
  "language_info": {
   "codemirror_mode": {
    "name": "ipython",
    "version": 3
   },
   "file_extension": ".py",
   "mimetype": "text/x-python",
   "name": "python",
   "nbconvert_exporter": "python",
   "pygments_lexer": "ipython3",
   "version": "3.9.13"
  }
 },
 "nbformat": 4,
 "nbformat_minor": 5
}
