{
 "cells": [
  {
   "cell_type": "markdown",
   "id": "9afa1d68",
   "metadata": {},
   "source": [
    "## Imports"
   ]
  },
  {
   "cell_type": "markdown",
   "id": "280516d4",
   "metadata": {},
   "source": [
    "# Two-source Wave Interference Simulation\n",
    "\n",
    "A.k.a. \"Makin' Waves in Cairo!\"\n",
    "\n",
    "We simulate the interference pattern produced by two wave sources with identical frequencies. A \"top-view\" 2-D intensity map is created to show the wave interference pattern inside a square grid.   \n",
    "\n",
    "\n",
    "## User Inputs\n",
    "\n",
    "Only these inputs for now:\n",
    "- `num_pts` = Number of points along each axis of the square grid\n",
    "    - Currently `num_pts` must be <= 25\n",
    "- `f`* = Frequency of sources\n",
    "    - For example: 509 * 10**17 (FP value equivalent to 0.509) \n",
    "- `d`* = Distance between sources \n",
    "    - For example: 5 * 10**20 (FP value equivalent to 5)\n",
    "    - Currently `d` must be <= 10 * 10**20 (FP value equivalent to 10)\n",
    "\n",
    "    *These are FP (fixed point) values where FP scale is `SCALE_FP` = 10**20.\n",
    "\n",
    "\n",
    "## Cairo files\n",
    "\n",
    "**intensity_plot.cairo** contains:\n",
    "- `intensity_plot_arr`- The external function which accepts user inputs and initiates all calculations\n",
    "- Other functions to calculate x coordinates, y coordinates, intensities at each position (x, y), and fill arrays for each of these\n",
    "\n",
    "**wave_physics.cairo** contains functions for wave physics calculations of: \n",
    "- Wave function\n",
    "- Sum of wave functions\n",
    "- Intensity of combined wave\n",
    "\n",
    "**math.cairo** contains math functions to use with fixed point quantities: \n",
    "- Square root, multiplication, division\n",
    "- Distance between two points\n",
    "- Shift any angle `theta` to equivalent angle `theta_shifted` within range `-PI` to `PI`\n",
    "- Cosine approximation using Taylor series, requires `-PI` <= angle <= `PI`\n",
    "\n",
    "**structs.cairo** contains struct definitions for: \n",
    "- Wave parameters common to both sources\n",
    "- Wave parameters for an individual source\n",
    "- Combined parameters for two waves\n",
    "\n",
    "**constants.cairo** contains: \n",
    "- FP math constants\n",
    "- Other math constants\n",
    "- Physical wave parameters (except those that are user inputs)\n",
    "- Plot parameters (except those that are user inputs)\n",
    "\n",
    "\n",
    "## Tests\n",
    "\n",
    "**test_intensity_plot.py**\n",
    "- Contains *input parameters* which are fed into both Cairo and Python calculations\n",
    "- Contains other constants and parameters (that should match those in **constants.cairo**) for Python calculations \n",
    "- Contains Python calculations if intensity array, to compare to Cairo calculations done by calling `intensity_plot_arr` function from **intensity_plot.cairo** using *input parameters*\n",
    "- Prints for comparison the values (as FP) from the intensity arrays found with Cairo and Python\n",
    "- To run: `pytest -s test_intensity_plot.py`\n",
    "\n",
    "\n",
    "**test_intensity_plot.ipynb**\n",
    "- Jupyter notebook which plots `intensity_s` array calculated by **intensity_plot.cairo**\n",
    "- Gets data from .json file created in **test_intensity_plot.py** using calculations from **intensity_plot.cairo**\n",
    "- To run:\n",
    "    - Install [Jupyter Notebook](https://jupyter.org/install)\n",
    "    - `jupyter notebook`, follow instructions to open notebook in browser\n",
    "    - Open file **test_intensity_plot.ipynb**\n",
    "\n",
    "\n",
    "**test_math.py**\n",
    "- Compares Python calculations to those found by calling `theta_shifter` and `cosine_8th` functions from **math.cairo**\n",
    "- Note:\n",
    "    - `n` = 5 is used to include 5 terms (to 8th order) in Python cosine approximation, to match approximation in `cosine_8th` function in **math.cairo**\n",
    "    - `num_tests` = an odd number of tests to run\n",
    "    - Values of `theta` to test are incremented by `PI`/4 in this range:\n",
    "\n",
    "        *-(`PI`/4)(`num_tests`-1)/2 <= `theta` <= +(`PI`/4)(`num_tests`-1)/2*\n",
    "\n",
    "- To run: `pytest -s test_math.py`"
   ]
  },
  {
   "cell_type": "code",
   "execution_count": 7,
   "id": "4cfb0384",
   "metadata": {
    "scrolled": false
   },
   "outputs": [],
   "source": [
    "import json\n",
    "import numpy as np\n",
    "import matplotlib.pyplot as plt"
   ]
  },
  {
   "cell_type": "markdown",
   "id": "26986f52",
   "metadata": {},
   "source": [
    "## Plot intensity_s array from data in .json file\n",
    "\n",
    ".json file contains calculations from intensity_plot.cairo, called by test_intensity_plot.py"
   ]
  },
  {
   "cell_type": "code",
   "execution_count": 8,
   "id": "db9bfb8b",
   "metadata": {},
   "outputs": [
    {
     "data": {
      "image/png": "[encoded data removed]",
      "text/plain": [
       "<Figure size 640x480 with 1 Axes>"
      ]
     },
     "metadata": {},
     "output_type": "display_data"
    }
   ],
   "source": [
    "with open('test_intensity_plot.json') as json_file:\n",
    "    data = json.load(json_file)\n",
    "    \n",
    "    # Unpack flattened array\n",
    "    intensity_array_flattened = np.array(data[0])\n",
    "    #intensity_array_flattened = data[0]\n",
    "    \n",
    "    # Convert to float\n",
    "    intensity_array_flattened_float = np.array(list(map(float, intensity_array_flattened)))\n",
    "    \n",
    "    # Find num_pts = (array length)**0.5\n",
    "    #              = number of points along each side of desired square array\n",
    "    intensity_array_flattened_len = len(intensity_array_flattened)\n",
    "    num_pts = int(np.sqrt(intensity_array_flattened_len))\n",
    "    \n",
    "    # Declare empty array with dimensions\n",
    "    intensity_s = np.empty((num_pts, num_pts))\n",
    "    \n",
    "    # Reshape array to dimensions num_pts*num_pts   \n",
    "    for p in range(0, num_pts):\n",
    "        for q in range(0, num_pts):\n",
    "            \n",
    "            intensity_s[q, p] = intensity_array_flattened_float[q + p * num_pts]\n",
    "  \n",
    "    # create a Figure 'fig' and Axes 'ax'\n",
    "    fig, ax = plt.subplots()\n",
    "            \n",
    "    # removes subdivisions (ticks) on axes since [] is empty\n",
    "    ax.set_xticks([])\n",
    "    ax.set_yticks([])\n",
    "    \n",
    "    ax.imshow(intensity_s, cmap=None)\n",
    "\n",
    "    plt.show()"
   ]
  }
 ],
 "metadata": {
  "kernelspec": {
   "display_name": "Python 3 (ipykernel)",
   "language": "python",
   "name": "python3"
  },
  "language_info": {
   "codemirror_mode": {
    "name": "ipython",
    "version": 3
   },
   "file_extension": ".py",
   "mimetype": "text/x-python",
   "name": "python",
   "nbconvert_exporter": "python",
   "pygments_lexer": "ipython3",
   "version": "3.9.13"
  }
 },
 "nbformat": 4,
 "nbformat_minor": 5
}
